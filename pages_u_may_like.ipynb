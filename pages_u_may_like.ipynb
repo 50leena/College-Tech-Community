{
 "cells": [
  {
   "cell_type": "code",
   "execution_count": 2,
   "id": "2840141a-a532-4b43-8ff2-7aa0cc94e98a",
   "metadata": {},
   "outputs": [
    {
     "name": "stdout",
     "output_type": "stream",
     "text": [
      "[103, 104, 105, 106, 107, 108, 109, 110, 111, 112, 113, 114, 115, 116, 117, 118, 119, 120, 121, 122, 123, 124, 125, 126, 127]\n"
     ]
    }
   ],
   "source": [
    "import json\n",
    "\n",
    "def load_data(filename):\n",
    "    with open(filename,\"r\")as f:\n",
    "        return json.load(f)\n",
    "\n",
    "#function to find pages the user may liked\n",
    "def find_pages_u_may_like(user_id, data):\n",
    "    user_pages = {}\n",
    "    for user in data['users']:\n",
    "        user_pages[user['id']] = set(user['liked_pages'])\n",
    "    \n",
    "    #if user is not found , return an empty list\n",
    "    if user_id not in user_pages:\n",
    "        return []\n",
    "    user_liked_pages = user_pages[user_id]\n",
    "    page_suggestion = {}\n",
    "    \n",
    "    for other_user, pages in user_pages.items():\n",
    "        if other_user != user_id:\n",
    "            shared_pages = user_liked_pages.intersection(pages)\n",
    "        for page in pages:\n",
    "            if page not in user_liked_pages:\n",
    "                page_suggestion[page] = page_suggestion.get('get', 0) +len(shared_pages)\n",
    "     \n",
    "    \n",
    "    sorted_pages = sorted(page_suggestion.items(),key=lambda x: x[1], reverse = True)\n",
    "    return [page_id for page_id, _ in sorted_pages]\n",
    "\n",
    "\n",
    "data = load_data(\"massive.json\")\n",
    "user_id = 1\n",
    "page_recommendation = find_pages_u_may_like(user_id, data)\n",
    "print(page_recommendation)\n",
    "                 \n",
    "    "
   ]
  },
  {
   "cell_type": "code",
   "execution_count": null,
   "id": "c8c282a9-4665-4abe-b2bd-787e90f4924e",
   "metadata": {},
   "outputs": [],
   "source": []
  }
 ],
 "metadata": {
  "kernelspec": {
   "display_name": "Python 3 (ipykernel)",
   "language": "python",
   "name": "python3"
  },
  "language_info": {
   "codemirror_mode": {
    "name": "ipython",
    "version": 3
   },
   "file_extension": ".py",
   "mimetype": "text/x-python",
   "name": "python",
   "nbconvert_exporter": "python",
   "pygments_lexer": "ipython3",
   "version": "3.11.5"
  }
 },
 "nbformat": 4,
 "nbformat_minor": 5
}
