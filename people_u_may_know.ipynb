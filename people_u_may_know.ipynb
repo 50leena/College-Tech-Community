{
 "cells": [
  {
   "cell_type": "code",
   "execution_count": 34,
   "id": "c22b3d3f-3477-4862-a43a-c9a097d7ecc5",
   "metadata": {
    "tags": []
   },
   "outputs": [
    {
     "name": "stdout",
     "output_type": "stream",
     "text": [
      "[8, 9, 11, 16, 20, 17, 21, 2, 3, 6, 10, 18, 25]\n"
     ]
    }
   ],
   "source": [
    "import json\n",
    "\n",
    "def load_data(filename):\n",
    "    with open(filename,\"r\") as f:\n",
    "        return json.load(f)\n",
    "\n",
    "def find_people_u_may_know(user_id, data):\n",
    "    user_friends = {}\n",
    "    for user in data['users']:\n",
    "        user_friends[user['id']] = set(user['friends'])\n",
    "        \n",
    "    if user_id not in user_friends:\n",
    "        return []\n",
    "        \n",
    "    direct_friends = user_friends[user_id]\n",
    "    suggestions = {}\n",
    "    for friend in direct_friends:\n",
    "        for mutual in user_friends[friend]:\n",
    "            if mutual != user_id and mutual not in direct_friends:\n",
    "                suggestions[mutual] = suggestions.get(mutual, 0) + 1\n",
    "                        \n",
    "    sorted_suggestions = sorted(suggestions.items(),key=lambda x: x[1], reverse = True)\n",
    "    return [user_id for user_id, mutual_count in sorted_suggestions]\n",
    " \n",
    "data = load_data(\"massive.json\")\n",
    "user_id = 13\n",
    "recc = find_people_u_may_know(user_id, data)\n",
    "print(recc)\n",
    "    \n",
    "                "
   ]
  },
  {
   "cell_type": "code",
   "execution_count": null,
   "id": "948dd04d-d526-4f4d-8872-835e944099cf",
   "metadata": {},
   "outputs": [],
   "source": []
  },
  {
   "cell_type": "code",
   "execution_count": null,
   "id": "dfe82072-37ff-40b6-89ee-68537dfe69c6",
   "metadata": {},
   "outputs": [],
   "source": []
  }
 ],
 "metadata": {
  "kernelspec": {
   "display_name": "Python 3 (ipykernel)",
   "language": "python",
   "name": "python3"
  },
  "language_info": {
   "codemirror_mode": {
    "name": "ipython",
    "version": 3
   },
   "file_extension": ".py",
   "mimetype": "text/x-python",
   "name": "python",
   "nbconvert_exporter": "python",
   "pygments_lexer": "ipython3",
   "version": "3.11.5"
  }
 },
 "nbformat": 4,
 "nbformat_minor": 5
}
